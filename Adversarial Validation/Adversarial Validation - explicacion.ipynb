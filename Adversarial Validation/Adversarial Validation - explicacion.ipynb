{
 "cells": [
  {
   "cell_type": "markdown",
   "id": "ef9b9882",
   "metadata": {},
   "source": [
    "# Adversarial Validation\n",
    "Ejemplo 1: Titanic\n",
    "- https://www.kaggle.com/competitions/titanic/overview\n",
    "\n",
    "Fuentes:\n",
    "- https://www.kaggle.com/code/carlmcbrideellis/what-is-adversarial-validation\n",
    "- The kaggle book"
   ]
  },
  {
   "cell_type": "markdown",
   "id": "08b35335",
   "metadata": {},
   "source": [
    "### Definición\n",
    "\n",
    "Adversarial Validation es una forma muy inteligente y muy simple de hacernos saber si nuestros **datos de prueba y nuestros datos de entrenamiento son similares.**\n",
    "\n",
    "Es esencial que los datos de entrenamiento sean una muestra representativa de los datos en los que pretendemos usarlos (es decir, los datos de prueba); de lo contrario, nuestro modelo, en el mejor de los casos, tendrá un rendimiento inferior al esperado o, en el peor de los casos, será completamente inútil."
   ]
  },
  {
   "cell_type": "markdown",
   "id": "94aa055e",
   "metadata": {},
   "source": [
    "### Cómo se hace\n",
    "- Combinamos nuestros datos de entrenamiento y prueba, etiquetándolos con, digamos, un 0 para los datos de entrenamiento y un 1 para los datos de prueba, los mezclamos y luego vemos si podemos volver a identificarlos correctamente usando un clasificador binario.\n",
    "\n",
    "\n",
    "- Si no podemos clasificarlos correctamente, es decir, obtenemos un área bajo la curva característica operativa (ROC) del receptor de **0,5, entonces son indistinguibles y estamos listos para continuar.**\n",
    "\n",
    "\n",
    "- **Sin embargo, si podemos clasificarlos (ROC > 0.5), entonces tenemos un problema, ya sea con todo el conjunto de datos o más probablemente con algunas características en particular, que probablemente sean de diferentes distribuciones en los conjuntos de datos de prueba y entrenamiento.** Si tenemos un problema, podemos mirar la característica que estaba más fuera de lugar. El problema puede ser que haya valores que solo se vieron en, digamos, datos de entrenamiento, pero no en los datos de prueba. **Si la contribución a la ROC de una característica es muy alta, puede ser una buena idea eliminar esa característica del modelo.**"
   ]
  },
  {
   "cell_type": "markdown",
   "id": "23ae9aed",
   "metadata": {},
   "source": [
    "### Beneficio para competencias de ML\n",
    "Adversarial Validation to reduce overfitting\n",
    "\n",
    "The key to avoid overfitting is to create a situation where the local cross-vlidation (CV) score is representative of the competition score. When we have a ROC of 0.5 then your local data is representative of the test data, thus your local CV score should now be representative of the Public LB score."
   ]
  },
  {
   "cell_type": "code",
   "execution_count": null,
   "id": "889b5959",
   "metadata": {},
   "outputs": [],
   "source": []
  },
  {
   "cell_type": "markdown",
   "id": "f78b94fb",
   "metadata": {},
   "source": [
    "# RUN"
   ]
  },
  {
   "cell_type": "code",
   "execution_count": 60,
   "id": "64531517",
   "metadata": {},
   "outputs": [],
   "source": [
    "import pandas as pd\n",
    "import matplotlib.pyplot as plt\n",
    "import numpy as np\n",
    "import xgboost\n",
    "from xgboost import XGBClassifier\n",
    "from sklearn.model_selection import cross_val_score\n",
    "from sklearn.model_selection import cross_validate\n",
    "\n",
    "import warnings\n",
    "warnings.filterwarnings(\"ignore\")"
   ]
  },
  {
   "cell_type": "code",
   "execution_count": null,
   "id": "eeb19a2d",
   "metadata": {},
   "outputs": [],
   "source": []
  },
  {
   "cell_type": "markdown",
   "id": "1d973343",
   "metadata": {},
   "source": [
    "## Ex 1. Titanic Dataset\n",
    "https://www.kaggle.com/c/titanic"
   ]
  },
  {
   "cell_type": "markdown",
   "id": "afebb115",
   "metadata": {},
   "source": [
    "### 1. Read data"
   ]
  },
  {
   "cell_type": "code",
   "execution_count": 2,
   "id": "32c32e3f",
   "metadata": {},
   "outputs": [],
   "source": [
    "# path data\n",
    "path_folder = 'data'\n",
    "name_data_train = 'train.csv'\n",
    "name_data_test = 'test.csv'\n",
    "\n",
    "# read data\n",
    "train = pd.read_csv(path_folder + '/' + name_data_train)\n",
    "test = pd.read_csv(path_folder + '/' + name_data_test)"
   ]
  },
  {
   "cell_type": "code",
   "execution_count": 3,
   "id": "3e6b380f",
   "metadata": {},
   "outputs": [
    {
     "data": {
      "text/html": [
       "<div>\n",
       "<style scoped>\n",
       "    .dataframe tbody tr th:only-of-type {\n",
       "        vertical-align: middle;\n",
       "    }\n",
       "\n",
       "    .dataframe tbody tr th {\n",
       "        vertical-align: top;\n",
       "    }\n",
       "\n",
       "    .dataframe thead th {\n",
       "        text-align: right;\n",
       "    }\n",
       "</style>\n",
       "<table border=\"1\" class=\"dataframe\">\n",
       "  <thead>\n",
       "    <tr style=\"text-align: right;\">\n",
       "      <th></th>\n",
       "      <th>PassengerId</th>\n",
       "      <th>Survived</th>\n",
       "      <th>Pclass</th>\n",
       "      <th>Name</th>\n",
       "      <th>Sex</th>\n",
       "      <th>Age</th>\n",
       "      <th>SibSp</th>\n",
       "      <th>Parch</th>\n",
       "      <th>Ticket</th>\n",
       "      <th>Fare</th>\n",
       "      <th>Cabin</th>\n",
       "      <th>Embarked</th>\n",
       "    </tr>\n",
       "  </thead>\n",
       "  <tbody>\n",
       "    <tr>\n",
       "      <th>0</th>\n",
       "      <td>1</td>\n",
       "      <td>0</td>\n",
       "      <td>3</td>\n",
       "      <td>Braund, Mr. Owen Harris</td>\n",
       "      <td>male</td>\n",
       "      <td>22.0</td>\n",
       "      <td>1</td>\n",
       "      <td>0</td>\n",
       "      <td>A/5 21171</td>\n",
       "      <td>7.2500</td>\n",
       "      <td>NaN</td>\n",
       "      <td>S</td>\n",
       "    </tr>\n",
       "    <tr>\n",
       "      <th>1</th>\n",
       "      <td>2</td>\n",
       "      <td>1</td>\n",
       "      <td>1</td>\n",
       "      <td>Cumings, Mrs. John Bradley (Florence Briggs Th...</td>\n",
       "      <td>female</td>\n",
       "      <td>38.0</td>\n",
       "      <td>1</td>\n",
       "      <td>0</td>\n",
       "      <td>PC 17599</td>\n",
       "      <td>71.2833</td>\n",
       "      <td>C85</td>\n",
       "      <td>C</td>\n",
       "    </tr>\n",
       "    <tr>\n",
       "      <th>2</th>\n",
       "      <td>3</td>\n",
       "      <td>1</td>\n",
       "      <td>3</td>\n",
       "      <td>Heikkinen, Miss. Laina</td>\n",
       "      <td>female</td>\n",
       "      <td>26.0</td>\n",
       "      <td>0</td>\n",
       "      <td>0</td>\n",
       "      <td>STON/O2. 3101282</td>\n",
       "      <td>7.9250</td>\n",
       "      <td>NaN</td>\n",
       "      <td>S</td>\n",
       "    </tr>\n",
       "  </tbody>\n",
       "</table>\n",
       "</div>"
      ],
      "text/plain": [
       "   PassengerId  Survived  Pclass  \\\n",
       "0            1         0       3   \n",
       "1            2         1       1   \n",
       "2            3         1       3   \n",
       "\n",
       "                                                Name     Sex   Age  SibSp  \\\n",
       "0                            Braund, Mr. Owen Harris    male  22.0      1   \n",
       "1  Cumings, Mrs. John Bradley (Florence Briggs Th...  female  38.0      1   \n",
       "2                             Heikkinen, Miss. Laina  female  26.0      0   \n",
       "\n",
       "   Parch            Ticket     Fare Cabin Embarked  \n",
       "0      0         A/5 21171   7.2500   NaN        S  \n",
       "1      0          PC 17599  71.2833   C85        C  \n",
       "2      0  STON/O2. 3101282   7.9250   NaN        S  "
      ]
     },
     "execution_count": 3,
     "metadata": {},
     "output_type": "execute_result"
    }
   ],
   "source": [
    "train.head(3)"
   ]
  },
  {
   "cell_type": "code",
   "execution_count": 4,
   "id": "81d2a870",
   "metadata": {},
   "outputs": [
    {
     "data": {
      "text/html": [
       "<div>\n",
       "<style scoped>\n",
       "    .dataframe tbody tr th:only-of-type {\n",
       "        vertical-align: middle;\n",
       "    }\n",
       "\n",
       "    .dataframe tbody tr th {\n",
       "        vertical-align: top;\n",
       "    }\n",
       "\n",
       "    .dataframe thead th {\n",
       "        text-align: right;\n",
       "    }\n",
       "</style>\n",
       "<table border=\"1\" class=\"dataframe\">\n",
       "  <thead>\n",
       "    <tr style=\"text-align: right;\">\n",
       "      <th></th>\n",
       "      <th>PassengerId</th>\n",
       "      <th>Pclass</th>\n",
       "      <th>Name</th>\n",
       "      <th>Sex</th>\n",
       "      <th>Age</th>\n",
       "      <th>SibSp</th>\n",
       "      <th>Parch</th>\n",
       "      <th>Ticket</th>\n",
       "      <th>Fare</th>\n",
       "      <th>Cabin</th>\n",
       "      <th>Embarked</th>\n",
       "    </tr>\n",
       "  </thead>\n",
       "  <tbody>\n",
       "    <tr>\n",
       "      <th>0</th>\n",
       "      <td>892</td>\n",
       "      <td>3</td>\n",
       "      <td>Kelly, Mr. James</td>\n",
       "      <td>male</td>\n",
       "      <td>34.5</td>\n",
       "      <td>0</td>\n",
       "      <td>0</td>\n",
       "      <td>330911</td>\n",
       "      <td>7.8292</td>\n",
       "      <td>NaN</td>\n",
       "      <td>Q</td>\n",
       "    </tr>\n",
       "    <tr>\n",
       "      <th>1</th>\n",
       "      <td>893</td>\n",
       "      <td>3</td>\n",
       "      <td>Wilkes, Mrs. James (Ellen Needs)</td>\n",
       "      <td>female</td>\n",
       "      <td>47.0</td>\n",
       "      <td>1</td>\n",
       "      <td>0</td>\n",
       "      <td>363272</td>\n",
       "      <td>7.0000</td>\n",
       "      <td>NaN</td>\n",
       "      <td>S</td>\n",
       "    </tr>\n",
       "    <tr>\n",
       "      <th>2</th>\n",
       "      <td>894</td>\n",
       "      <td>2</td>\n",
       "      <td>Myles, Mr. Thomas Francis</td>\n",
       "      <td>male</td>\n",
       "      <td>62.0</td>\n",
       "      <td>0</td>\n",
       "      <td>0</td>\n",
       "      <td>240276</td>\n",
       "      <td>9.6875</td>\n",
       "      <td>NaN</td>\n",
       "      <td>Q</td>\n",
       "    </tr>\n",
       "  </tbody>\n",
       "</table>\n",
       "</div>"
      ],
      "text/plain": [
       "   PassengerId  Pclass                              Name     Sex   Age  SibSp  \\\n",
       "0          892       3                  Kelly, Mr. James    male  34.5      0   \n",
       "1          893       3  Wilkes, Mrs. James (Ellen Needs)  female  47.0      1   \n",
       "2          894       2         Myles, Mr. Thomas Francis    male  62.0      0   \n",
       "\n",
       "   Parch  Ticket    Fare Cabin Embarked  \n",
       "0      0  330911  7.8292   NaN        Q  \n",
       "1      0  363272  7.0000   NaN        S  \n",
       "2      0  240276  9.6875   NaN        Q  "
      ]
     },
     "execution_count": 4,
     "metadata": {},
     "output_type": "execute_result"
    }
   ],
   "source": [
    "test.head(3)"
   ]
  },
  {
   "cell_type": "code",
   "execution_count": 5,
   "id": "01841a62",
   "metadata": {},
   "outputs": [
    {
     "name": "stdout",
     "output_type": "stream",
     "text": [
      "<class 'pandas.core.frame.DataFrame'>\n",
      "RangeIndex: 891 entries, 0 to 890\n",
      "Data columns (total 12 columns):\n",
      " #   Column       Non-Null Count  Dtype  \n",
      "---  ------       --------------  -----  \n",
      " 0   PassengerId  891 non-null    int64  \n",
      " 1   Survived     891 non-null    int64  \n",
      " 2   Pclass       891 non-null    int64  \n",
      " 3   Name         891 non-null    object \n",
      " 4   Sex          891 non-null    object \n",
      " 5   Age          714 non-null    float64\n",
      " 6   SibSp        891 non-null    int64  \n",
      " 7   Parch        891 non-null    int64  \n",
      " 8   Ticket       891 non-null    object \n",
      " 9   Fare         891 non-null    float64\n",
      " 10  Cabin        204 non-null    object \n",
      " 11  Embarked     889 non-null    object \n",
      "dtypes: float64(2), int64(5), object(5)\n",
      "memory usage: 83.7+ KB\n"
     ]
    }
   ],
   "source": [
    "train.info()"
   ]
  },
  {
   "cell_type": "markdown",
   "id": "6156e772",
   "metadata": {},
   "source": [
    "### 2. Select only the numerical feature\n",
    "Para el ejemplo y simplificarlo, se utilizan solo features numéricas"
   ]
  },
  {
   "cell_type": "code",
   "execution_count": 6,
   "id": "5c57d658",
   "metadata": {},
   "outputs": [],
   "source": [
    "X_train = train.select_dtypes(include=['number']).copy()\n",
    "X_test  = test.select_dtypes(include=['number']).copy()"
   ]
  },
  {
   "cell_type": "markdown",
   "id": "919fd97e",
   "metadata": {},
   "source": [
    "### 3. Eliminar el target de la data\n",
    "El target (Survived) está presente solo en la data X_train. \n",
    "\n",
    "Para el ejemplo, el objetivo es poder saber si la data de train y test tienen la misma distribución, por lo que lo único que interesa son los datos \"X_train\" y \"X_test\""
   ]
  },
  {
   "cell_type": "code",
   "execution_count": 7,
   "id": "2bdde1cf",
   "metadata": {},
   "outputs": [],
   "source": [
    "X_train = X_train.drop(['Survived'], axis=1)"
   ]
  },
  {
   "cell_type": "code",
   "execution_count": null,
   "id": "0c9ba3ee",
   "metadata": {},
   "outputs": [],
   "source": []
  },
  {
   "cell_type": "markdown",
   "id": "4c2d0332",
   "metadata": {},
   "source": [
    "### 4. Ver a priori distribución de los datos"
   ]
  },
  {
   "cell_type": "code",
   "execution_count": 8,
   "id": "a3d1747e",
   "metadata": {},
   "outputs": [
    {
     "name": "stdout",
     "output_type": "stream",
     "text": [
      "shape: \n",
      "(891, 6)\n",
      "(418, 6)\n"
     ]
    }
   ],
   "source": [
    "print('shape: ')\n",
    "print(X_train.shape)\n",
    "print(X_test.shape)"
   ]
  },
  {
   "cell_type": "code",
   "execution_count": 9,
   "id": "42377a50",
   "metadata": {},
   "outputs": [
    {
     "data": {
      "text/html": [
       "<div>\n",
       "<style scoped>\n",
       "    .dataframe tbody tr th:only-of-type {\n",
       "        vertical-align: middle;\n",
       "    }\n",
       "\n",
       "    .dataframe tbody tr th {\n",
       "        vertical-align: top;\n",
       "    }\n",
       "\n",
       "    .dataframe thead th {\n",
       "        text-align: right;\n",
       "    }\n",
       "</style>\n",
       "<table border=\"1\" class=\"dataframe\">\n",
       "  <thead>\n",
       "    <tr style=\"text-align: right;\">\n",
       "      <th></th>\n",
       "      <th>PassengerId</th>\n",
       "      <th>Pclass</th>\n",
       "      <th>Age</th>\n",
       "      <th>SibSp</th>\n",
       "      <th>Parch</th>\n",
       "      <th>Fare</th>\n",
       "    </tr>\n",
       "  </thead>\n",
       "  <tbody>\n",
       "    <tr>\n",
       "      <th>0</th>\n",
       "      <td>1</td>\n",
       "      <td>3</td>\n",
       "      <td>22.0</td>\n",
       "      <td>1</td>\n",
       "      <td>0</td>\n",
       "      <td>7.2500</td>\n",
       "    </tr>\n",
       "    <tr>\n",
       "      <th>1</th>\n",
       "      <td>2</td>\n",
       "      <td>1</td>\n",
       "      <td>38.0</td>\n",
       "      <td>1</td>\n",
       "      <td>0</td>\n",
       "      <td>71.2833</td>\n",
       "    </tr>\n",
       "    <tr>\n",
       "      <th>2</th>\n",
       "      <td>3</td>\n",
       "      <td>3</td>\n",
       "      <td>26.0</td>\n",
       "      <td>0</td>\n",
       "      <td>0</td>\n",
       "      <td>7.9250</td>\n",
       "    </tr>\n",
       "  </tbody>\n",
       "</table>\n",
       "</div>"
      ],
      "text/plain": [
       "   PassengerId  Pclass   Age  SibSp  Parch     Fare\n",
       "0            1       3  22.0      1      0   7.2500\n",
       "1            2       1  38.0      1      0  71.2833\n",
       "2            3       3  26.0      0      0   7.9250"
      ]
     },
     "execution_count": 9,
     "metadata": {},
     "output_type": "execute_result"
    }
   ],
   "source": [
    "X_train.head(3)"
   ]
  },
  {
   "cell_type": "code",
   "execution_count": 10,
   "id": "97a3ffe0",
   "metadata": {},
   "outputs": [
    {
     "data": {
      "text/html": [
       "<div>\n",
       "<style scoped>\n",
       "    .dataframe tbody tr th:only-of-type {\n",
       "        vertical-align: middle;\n",
       "    }\n",
       "\n",
       "    .dataframe tbody tr th {\n",
       "        vertical-align: top;\n",
       "    }\n",
       "\n",
       "    .dataframe thead th {\n",
       "        text-align: right;\n",
       "    }\n",
       "</style>\n",
       "<table border=\"1\" class=\"dataframe\">\n",
       "  <thead>\n",
       "    <tr style=\"text-align: right;\">\n",
       "      <th></th>\n",
       "      <th>PassengerId</th>\n",
       "      <th>Pclass</th>\n",
       "      <th>Age</th>\n",
       "      <th>SibSp</th>\n",
       "      <th>Parch</th>\n",
       "      <th>Fare</th>\n",
       "    </tr>\n",
       "  </thead>\n",
       "  <tbody>\n",
       "    <tr>\n",
       "      <th>0</th>\n",
       "      <td>892</td>\n",
       "      <td>3</td>\n",
       "      <td>34.5</td>\n",
       "      <td>0</td>\n",
       "      <td>0</td>\n",
       "      <td>7.8292</td>\n",
       "    </tr>\n",
       "    <tr>\n",
       "      <th>1</th>\n",
       "      <td>893</td>\n",
       "      <td>3</td>\n",
       "      <td>47.0</td>\n",
       "      <td>1</td>\n",
       "      <td>0</td>\n",
       "      <td>7.0000</td>\n",
       "    </tr>\n",
       "    <tr>\n",
       "      <th>2</th>\n",
       "      <td>894</td>\n",
       "      <td>2</td>\n",
       "      <td>62.0</td>\n",
       "      <td>0</td>\n",
       "      <td>0</td>\n",
       "      <td>9.6875</td>\n",
       "    </tr>\n",
       "  </tbody>\n",
       "</table>\n",
       "</div>"
      ],
      "text/plain": [
       "   PassengerId  Pclass   Age  SibSp  Parch    Fare\n",
       "0          892       3  34.5      0      0  7.8292\n",
       "1          893       3  47.0      1      0  7.0000\n",
       "2          894       2  62.0      0      0  9.6875"
      ]
     },
     "execution_count": 10,
     "metadata": {},
     "output_type": "execute_result"
    }
   ],
   "source": [
    "X_test.head(3)"
   ]
  },
  {
   "cell_type": "code",
   "execution_count": 11,
   "id": "6e59f833",
   "metadata": {},
   "outputs": [
    {
     "data": {
      "image/png": "[encoded data removed]",
      "text/plain": [
       "<Figure size 1440x720 with 6 Axes>"
      ]
     },
     "metadata": {
      "needs_background": "light"
     },
     "output_type": "display_data"
    },
    {
     "data": {
      "image/png": "[encoded data removed]",
      "text/plain": [
       "<Figure size 1440x720 with 6 Axes>"
      ]
     },
     "metadata": {
      "needs_background": "light"
     },
     "output_type": "display_data"
    }
   ],
   "source": [
    "### histograma de train y test\n",
    "\n",
    "# plot train\n",
    "X_train.hist(figsize = (20, 10), color = 'blue')\n",
    "plt.show()\n",
    "\n",
    "# plot test\n",
    "X_test.hist(figsize = (20, 10), color = 'green')\n",
    "plt.show()"
   ]
  },
  {
   "cell_type": "markdown",
   "id": "7a7c87c1",
   "metadata": {},
   "source": [
    "Se observa a simple vista que el histograma de todas las variables se ven exactamente igual. La única diferencia es el tag \"PassegerID\" el cual lógicamente tiene que ser diferente ya que es el ID de cada uno de los pasajeros y no debe ser considerado una feature. \n",
    "\n",
    "Se verá a continuación, cómo funciona este método conservando la columna \"PassengerID\" en los datos"
   ]
  },
  {
   "cell_type": "markdown",
   "id": "8244c0ee",
   "metadata": {},
   "source": [
    "### 4. Label data y generar un único dataset\n",
    "Agregar Label a los datos [1, 0]. No importa qué dataset recibe la label. Para un primer paso se conserva la columna \"ID\""
   ]
  },
  {
   "cell_type": "code",
   "execution_count": 12,
   "id": "927b2e53",
   "metadata": {},
   "outputs": [],
   "source": [
    "# label data\n",
    "X_train['AV_label'] = 1\n",
    "X_test['AV_label'] = 0\n",
    "\n",
    "# concat data en un solo dataset \n",
    "data = pd.concat([X_train, X_test], axis = 0, ignore_index = True)"
   ]
  },
  {
   "cell_type": "code",
   "execution_count": 13,
   "id": "ba8c8eb2",
   "metadata": {},
   "outputs": [],
   "source": [
    "# suffle data\n",
    "np.random.seed(42)\n",
    "data = data.sample(frac=1)"
   ]
  },
  {
   "cell_type": "code",
   "execution_count": 14,
   "id": "7a9b783d",
   "metadata": {},
   "outputs": [
    {
     "data": {
      "text/html": [
       "<div>\n",
       "<style scoped>\n",
       "    .dataframe tbody tr th:only-of-type {\n",
       "        vertical-align: middle;\n",
       "    }\n",
       "\n",
       "    .dataframe tbody tr th {\n",
       "        vertical-align: top;\n",
       "    }\n",
       "\n",
       "    .dataframe thead th {\n",
       "        text-align: right;\n",
       "    }\n",
       "</style>\n",
       "<table border=\"1\" class=\"dataframe\">\n",
       "  <thead>\n",
       "    <tr style=\"text-align: right;\">\n",
       "      <th></th>\n",
       "      <th>PassengerId</th>\n",
       "      <th>Pclass</th>\n",
       "      <th>Age</th>\n",
       "      <th>SibSp</th>\n",
       "      <th>Parch</th>\n",
       "      <th>Fare</th>\n",
       "      <th>AV_label</th>\n",
       "    </tr>\n",
       "  </thead>\n",
       "  <tbody>\n",
       "    <tr>\n",
       "      <th>1148</th>\n",
       "      <td>1149</td>\n",
       "      <td>3</td>\n",
       "      <td>28.0</td>\n",
       "      <td>0</td>\n",
       "      <td>0</td>\n",
       "      <td>8.050</td>\n",
       "      <td>0</td>\n",
       "    </tr>\n",
       "    <tr>\n",
       "      <th>1049</th>\n",
       "      <td>1050</td>\n",
       "      <td>1</td>\n",
       "      <td>42.0</td>\n",
       "      <td>0</td>\n",
       "      <td>0</td>\n",
       "      <td>26.550</td>\n",
       "      <td>0</td>\n",
       "    </tr>\n",
       "    <tr>\n",
       "      <th>982</th>\n",
       "      <td>983</td>\n",
       "      <td>3</td>\n",
       "      <td>NaN</td>\n",
       "      <td>0</td>\n",
       "      <td>0</td>\n",
       "      <td>7.775</td>\n",
       "      <td>0</td>\n",
       "    </tr>\n",
       "    <tr>\n",
       "      <th>808</th>\n",
       "      <td>809</td>\n",
       "      <td>2</td>\n",
       "      <td>39.0</td>\n",
       "      <td>0</td>\n",
       "      <td>0</td>\n",
       "      <td>13.000</td>\n",
       "      <td>1</td>\n",
       "    </tr>\n",
       "    <tr>\n",
       "      <th>1195</th>\n",
       "      <td>1196</td>\n",
       "      <td>3</td>\n",
       "      <td>NaN</td>\n",
       "      <td>0</td>\n",
       "      <td>0</td>\n",
       "      <td>7.750</td>\n",
       "      <td>0</td>\n",
       "    </tr>\n",
       "  </tbody>\n",
       "</table>\n",
       "</div>"
      ],
      "text/plain": [
       "      PassengerId  Pclass   Age  SibSp  Parch    Fare  AV_label\n",
       "1148         1149       3  28.0      0      0   8.050         0\n",
       "1049         1050       1  42.0      0      0  26.550         0\n",
       "982           983       3   NaN      0      0   7.775         0\n",
       "808           809       2  39.0      0      0  13.000         1\n",
       "1195         1196       3   NaN      0      0   7.750         0"
      ]
     },
     "execution_count": 14,
     "metadata": {},
     "output_type": "execute_result"
    }
   ],
   "source": [
    "data.head()"
   ]
  },
  {
   "cell_type": "code",
   "execution_count": null,
   "id": "d73b89bb",
   "metadata": {},
   "outputs": [],
   "source": []
  },
  {
   "cell_type": "markdown",
   "id": "2b6186e0",
   "metadata": {},
   "source": [
    "### 5. Entrenar modelo AV buscando un AUC = 0.5 (dataset indistingible)"
   ]
  },
  {
   "cell_type": "markdown",
   "id": "20486fd6",
   "metadata": {},
   "source": [
    "#### 5.1 XGB\n",
    "Entrenar modelo XGB con 5folds CV"
   ]
  },
  {
   "cell_type": "code",
   "execution_count": 15,
   "id": "4b1681cb",
   "metadata": {},
   "outputs": [],
   "source": [
    "# create our DMatrix (the XGBoost data structure)\n",
    "X = data.drop(['AV_label'], axis=1)\n",
    "y = data['AV_label']\n",
    "XGBdata = xgboost.DMatrix(data=X,label=y)"
   ]
  },
  {
   "cell_type": "code",
   "execution_count": 16,
   "id": "9faa6c89",
   "metadata": {},
   "outputs": [],
   "source": [
    "# our XGBoost parameters\n",
    "params = {\"objective\":\"binary:logistic\",\n",
    "          \"eval_metric\":\"logloss\",\n",
    "          'learning_rate': 0.05,\n",
    "          'max_depth': 5, }"
   ]
  },
  {
   "cell_type": "code",
   "execution_count": 17,
   "id": "66bab739",
   "metadata": {},
   "outputs": [],
   "source": [
    "# perform cross validation with XGBoost\n",
    "cross_val_results = xgboost.cv(dtrain=XGBdata, \n",
    "                               params=params,\n",
    "                               nfold=5, \n",
    "                               metrics=\"auc\",\n",
    "                               num_boost_round=200,\n",
    "                               early_stopping_rounds=20,\n",
    "                               as_pandas=True\n",
    "                              )"
   ]
  },
  {
   "cell_type": "code",
   "execution_count": 18,
   "id": "4624ef05",
   "metadata": {},
   "outputs": [
    {
     "data": {
      "text/html": [
       "<div>\n",
       "<style scoped>\n",
       "    .dataframe tbody tr th:only-of-type {\n",
       "        vertical-align: middle;\n",
       "    }\n",
       "\n",
       "    .dataframe tbody tr th {\n",
       "        vertical-align: top;\n",
       "    }\n",
       "\n",
       "    .dataframe thead th {\n",
       "        text-align: right;\n",
       "    }\n",
       "</style>\n",
       "<table border=\"1\" class=\"dataframe\">\n",
       "  <thead>\n",
       "    <tr style=\"text-align: right;\">\n",
       "      <th></th>\n",
       "      <th>train-auc-mean</th>\n",
       "      <th>test-auc-mean</th>\n",
       "    </tr>\n",
       "  </thead>\n",
       "  <tbody>\n",
       "    <tr>\n",
       "      <th>0</th>\n",
       "      <td>1.0</td>\n",
       "      <td>0.999451</td>\n",
       "    </tr>\n",
       "  </tbody>\n",
       "</table>\n",
       "</div>"
      ],
      "text/plain": [
       "   train-auc-mean  test-auc-mean\n",
       "0             1.0       0.999451"
      ]
     },
     "execution_count": 18,
     "metadata": {},
     "output_type": "execute_result"
    }
   ],
   "source": [
    "# print AUC\n",
    "cross_val_results[['train-auc-mean', 'test-auc-mean']]"
   ]
  },
  {
   "cell_type": "markdown",
   "id": "261ce8e7",
   "metadata": {},
   "source": [
    "Podemos ver un AUC de 1 que indica que nuestro clasificador es capaz de distinguir perfectamente entre el entrenamiento original y los datos de prueba (Lo cual de acuerdo a lo visto en el análisis de datos es por la variable \"ID\"). \n",
    "\n",
    "**Veamos si se puede identificar qué variable es la que más que más aporta al AUC para eliminarla (si una variable aporta a un AUC que es alto, esto implica que dicha variable permite distinguir las labels y por lo tanto permite distinguir los datasets de train y test, que es lo que no se quiere)**"
   ]
  },
  {
   "cell_type": "markdown",
   "id": "1485aa97",
   "metadata": {},
   "source": []
  },
  {
   "cell_type": "markdown",
   "id": "8978519b",
   "metadata": {},
   "source": []
  },
  {
   "cell_type": "markdown",
   "id": "7175d217",
   "metadata": {},
   "source": [
    "#### 5.2 XGB - identificar qué variable aporta más\n",
    "Se podía:\n",
    "- Entrenar un modelo con todos los datos y ver sus importancias\n",
    "- Ver las importancias que entrega cada uno de los modelos entrenados con Kfolds (o todos)"
   ]
  },
  {
   "cell_type": "code",
   "execution_count": 19,
   "id": "00d44ab7",
   "metadata": {},
   "outputs": [
    {
     "data": {
      "image/png": "[encoded data removed]",
      "text/plain": [
       "<Figure size 864x288 with 1 Axes>"
      ]
     },
     "metadata": {
      "needs_background": "light"
     },
     "output_type": "display_data"
    }
   ],
   "source": [
    "# entrenar modelo con todo el dataset X, y\n",
    "classifier = XGBClassifier(eval_metric='logloss',use_label_encoder=False)\n",
    "classifier.fit(X, y)\n",
    "\n",
    "# plotear importancias de las variables\n",
    "from xgboost import plot_importance\n",
    "fig, ax = plt.subplots(figsize=(12,4))\n",
    "plot_importance(classifier, ax=ax)\n",
    "plt.show()"
   ]
  },
  {
   "cell_type": "code",
   "execution_count": null,
   "id": "a25ecbcc",
   "metadata": {},
   "outputs": [],
   "source": []
  },
  {
   "cell_type": "markdown",
   "id": "63436c2b",
   "metadata": {},
   "source": [
    "#### 5.3 Eliminar feature que más aporta a un AUC alto"
   ]
  },
  {
   "cell_type": "code",
   "execution_count": 20,
   "id": "2b5cfbdf",
   "metadata": {},
   "outputs": [],
   "source": [
    "# eliminar feature que más aporta\n",
    "X_updated = X.drop(['PassengerId'], axis=1)"
   ]
  },
  {
   "cell_type": "code",
   "execution_count": 87,
   "id": "ad33c1a5",
   "metadata": {},
   "outputs": [
    {
     "data": {
      "text/html": [
       "<div>\n",
       "<style scoped>\n",
       "    .dataframe tbody tr th:only-of-type {\n",
       "        vertical-align: middle;\n",
       "    }\n",
       "\n",
       "    .dataframe tbody tr th {\n",
       "        vertical-align: top;\n",
       "    }\n",
       "\n",
       "    .dataframe thead th {\n",
       "        text-align: right;\n",
       "    }\n",
       "</style>\n",
       "<table border=\"1\" class=\"dataframe\">\n",
       "  <thead>\n",
       "    <tr style=\"text-align: right;\">\n",
       "      <th></th>\n",
       "      <th>train-auc-mean</th>\n",
       "      <th>test-auc-mean</th>\n",
       "    </tr>\n",
       "  </thead>\n",
       "  <tbody>\n",
       "    <tr>\n",
       "      <th>23</th>\n",
       "      <td>0.718056</td>\n",
       "      <td>0.520044</td>\n",
       "    </tr>\n",
       "  </tbody>\n",
       "</table>\n",
       "</div>"
      ],
      "text/plain": [
       "    train-auc-mean  test-auc-mean\n",
       "23        0.718056       0.520044"
      ]
     },
     "execution_count": 87,
     "metadata": {},
     "output_type": "execute_result"
    }
   ],
   "source": [
    "# volver a entrenar modelo con CV\n",
    "\n",
    "\n",
    "# DMatrix actualizado\n",
    "XGBdata = xgboost.DMatrix(data=X_updated,label=y)\n",
    "\n",
    "# perform cross validation with XGBoost\n",
    "cross_val_results = xgboost.cv(dtrain=XGBdata, \n",
    "                               params=params,\n",
    "                               nfold=5, \n",
    "                               metrics=\"auc\",\n",
    "                               num_boost_round=200,\n",
    "                               early_stopping_rounds=20,\n",
    "                               as_pandas=True\n",
    "                              )\n",
    "\n",
    "# print AUC\n",
    "cross_val_results[['train-auc-mean', 'test-auc-mean']].tail(1)"
   ]
  },
  {
   "cell_type": "markdown",
   "id": "c830a0b6",
   "metadata": {},
   "source": [
    "Ahora tenemos un valor mucho más razonable, mucho más cercano a nuestro valor ideal de 0,5 (obtenido en promedio con Kfolds CV)"
   ]
  },
  {
   "cell_type": "code",
   "execution_count": null,
   "id": "a4b2c349",
   "metadata": {},
   "outputs": [],
   "source": []
  },
  {
   "cell_type": "code",
   "execution_count": 23,
   "id": "d8e56bc4",
   "metadata": {},
   "outputs": [
    {
     "data": {
      "image/png": "[encoded data removed]",
      "text/plain": [
       "<Figure size 864x288 with 1 Axes>"
      ]
     },
     "metadata": {
      "needs_background": "light"
     },
     "output_type": "display_data"
    }
   ],
   "source": [
    "#### ver la importancia entrenando un modelo con todos los datos\n",
    "\n",
    "# entrenar modelo con todo el dataset X, y\n",
    "classifier = XGBClassifier(eval_metric='logloss',use_label_encoder=False)\n",
    "classifier.fit(X_updated, y)\n",
    "\n",
    "# plotear importancias de las variables\n",
    "from xgboost import plot_importance\n",
    "fig, ax = plt.subplots(figsize=(12,4))\n",
    "plot_importance(classifier, ax=ax)\n",
    "plt.show()"
   ]
  },
  {
   "cell_type": "code",
   "execution_count": 88,
   "id": "08fdbedd",
   "metadata": {},
   "outputs": [
    {
     "data": {
      "text/plain": [
       "0.7948047728749483"
      ]
     },
     "execution_count": 88,
     "metadata": {},
     "output_type": "execute_result"
    }
   ],
   "source": [
    "# calculando auc del modelo entrenado con todos los datos\n",
    "from sklearn.metrics import roc_auc_score\n",
    "roc_auc_score(y_true = y, \n",
    "              y_score = classifier.predict(X_updated)\n",
    "             )"
   ]
  },
  {
   "cell_type": "markdown",
   "id": "9735327a",
   "metadata": {},
   "source": [
    "Del mismo modo, calculando auc score se observa que es distinto a 0.5, por lo que es posible distinguir ambas distribuciones (Sin embargo, el AUC obtenido a partir de k-folds es de 0.5) (como se muestra anteriormente, las features \"Fare\" y \"Age\" son las que más aportarían a la predicción)"
   ]
  },
  {
   "cell_type": "code",
   "execution_count": null,
   "id": "4ef84309",
   "metadata": {},
   "outputs": [],
   "source": []
  },
  {
   "cell_type": "markdown",
   "id": "2b4933ab",
   "metadata": {},
   "source": [
    "#### Conclusiones finales:\n",
    "- Mirando las nuevas importancias, se puede observar que hay 2 variables que aportan MÁS a la predicción (y mirando los histogramas son las 2 variables que visualmente se observan más diferentes entre sí).\n",
    "\n",
    "- Lo  anterior también explica que a pesar de que el AUC obtenido en Kfols CV sea de 0.5 (valor ideal) mientras que el AUC obtenido al entrenar un modelo con todos los datos es más alto, con un valor de 0.79 es las features que no tienen idéntica distribución (entre los datasets originales de train y test)\n",
    "\n",
    "- Luego, para decidir, entre un AUC obtenido con Kfolds y un AUC obtenido utilizando todo el conjunto de datos, es mas representativo para este ejemplo utilizar el AUC obtenido desde Kfolds, el cual es de 0.5 y por lo tanto los dos datasets originales son indistingibles entre sí"
   ]
  },
  {
   "cell_type": "code",
   "execution_count": null,
   "id": "452d6afa",
   "metadata": {},
   "outputs": [],
   "source": []
  },
  {
   "cell_type": "code",
   "execution_count": null,
   "id": "318a538b",
   "metadata": {},
   "outputs": [],
   "source": []
  },
  {
   "cell_type": "code",
   "execution_count": null,
   "id": "3bec49c9",
   "metadata": {},
   "outputs": [],
   "source": []
  },
  {
   "cell_type": "markdown",
   "id": "2eca228d",
   "metadata": {},
   "source": [
    "### 6. Pruebas estadísticas Individuales\n",
    "\n",
    "**Ahora compararemos cada característica individualmente.** Para distribuciones continuas, se usa la prueba de bondad de ajuste de Kolmogorov-Smirnov, aquí se usa la prueba SciPy kstest (para datos categóricos, se debe usar la prueba chi-cuadrado de Pearson). \n",
    "\n",
    "Estaremos calculando el p-value de la hipótesis de que las dos distribuciones son realmente iguales. (alfa = 0.05, H0: distribuciones iguales, si p-value < 0.05 se rechaza H0, por lo que las distribuciones son distintas)"
   ]
  },
  {
   "cell_type": "code",
   "execution_count": 25,
   "id": "035b4004",
   "metadata": {},
   "outputs": [],
   "source": [
    "from scipy import stats"
   ]
  },
  {
   "cell_type": "code",
   "execution_count": 26,
   "id": "fbc2dc9a",
   "metadata": {},
   "outputs": [
    {
     "data": {
      "text/plain": [
       "['PassengerId', 'Pclass', 'Age', 'SibSp', 'Parch', 'Fare', 'AV_label']"
      ]
     },
     "execution_count": 26,
     "metadata": {},
     "output_type": "execute_result"
    }
   ],
   "source": [
    "# Utilizar el primer dataset que incluye la columna \"ID\"\n",
    "features_list = X_train.columns.values.tolist()\n",
    "features_list"
   ]
  },
  {
   "cell_type": "code",
   "execution_count": 27,
   "id": "5ab9bfec",
   "metadata": {
    "scrolled": true
   },
   "outputs": [
    {
     "name": "stdout",
     "output_type": "stream",
     "text": [
      "KS test value: 1.000 with a p-value 0.00 for the feature ' PassengerId '\n",
      "KS test value: 0.030 with a p-value 0.96 for the feature ' Pclass '\n",
      "KS test value: 0.038 with a p-value 0.78 for the feature ' Age '\n",
      "KS test value: 0.025 with a p-value 0.99 for the feature ' SibSp '\n",
      "KS test value: 0.014 with a p-value 1.00 for the feature ' Parch '\n",
      "KS test value: 0.039 with a p-value 0.77 for the feature ' Fare '\n",
      "KS test value: 1.000 with a p-value 0.00 for the feature ' AV_label '\n"
     ]
    }
   ],
   "source": [
    "for feature in features_list:\n",
    "    statistic, p_value = stats.kstest(X_train[feature], X_test[feature])\n",
    "    print(\"KS test value: %.3f\" %statistic, \"with a p-value %.2f\" %p_value, \"for the feature '\",feature, \"'\")"
   ]
  },
  {
   "cell_type": "markdown",
   "id": "3aae1b97",
   "metadata": {},
   "source": [
    "Observaciones\n",
    "\n",
    "- Se pueden ver valores extremadamente altos para la prueba de KS junto con valores muy pequeños. Por ejemplo, \"PassengerID\" tiene un p-value muy pequeño lo que se traduce que que los datos de train y test tienen distribuciones completamente diferentes (igual que lo indicado por el modelo)\n",
    "\n",
    "- Por otro lado, las features \"Age\" y \"Fare\" tienen un p-value alto pero no tan alto como otras variables, por lo que también se puede pensar que podrían tener distribuciones diferentes entre train y test (igual que lo retornado por el modelo y el análisis de histogramas, pero el estadístico no cumple el valor p para poder afirmarlo con una base sólida)\n",
    "\n",
    "- Siguiendo los resultados de KS solo se eliminaría la feature \"PassengerID\" al tener un p-value <0.05. Mismo resultado obtenido a partir del modelo XGBOOST (con un AUC de 0.5 en test aplicando KFolds)"
   ]
  },
  {
   "cell_type": "code",
   "execution_count": null,
   "id": "b74cfa0d",
   "metadata": {},
   "outputs": [],
   "source": []
  },
  {
   "cell_type": "markdown",
   "id": "630a6e02",
   "metadata": {},
   "source": [
    "### 7. Probar otro modelo. RF\n",
    "Probar otro modelo, random forest clasifier, para comparar resultados"
   ]
  },
  {
   "cell_type": "markdown",
   "id": "6fd14ee6",
   "metadata": {},
   "source": [
    "#### 7.1 Entrenar modelo rf con todos los datos"
   ]
  },
  {
   "cell_type": "code",
   "execution_count": 89,
   "id": "1732775a",
   "metadata": {},
   "outputs": [],
   "source": [
    "from sklearn.ensemble import RandomForestClassifier"
   ]
  },
  {
   "cell_type": "code",
   "execution_count": 90,
   "id": "0f503f9c",
   "metadata": {},
   "outputs": [],
   "source": [
    "# eliminar nulos - sklearn no acepta nulos - xgb si acepta nulo\n",
    "X_train_no_null = X_train.dropna()\n",
    "X_test_no_null = X_test.dropna()\n",
    "\n",
    "# concat data en un solo dataset\n",
    "data_no_null = pd.concat([X_train_no_null, X_test_no_null], axis = 0, ignore_index = True)\n",
    "\n",
    "# generar X e y\n",
    "X_no_null = data_no_null.drop(['AV_label'], axis=1)\n",
    "y_no_null = data_no_null['AV_label']"
   ]
  },
  {
   "cell_type": "code",
   "execution_count": 91,
   "id": "fcaa62e9",
   "metadata": {},
   "outputs": [
    {
     "data": {
      "text/plain": [
       "1.0"
      ]
     },
     "execution_count": 91,
     "metadata": {},
     "output_type": "execute_result"
    }
   ],
   "source": [
    "# train modelo\n",
    "rf = RandomForestClassifier(random_state = 42)\n",
    "rf.fit(X_no_null, y_no_null)\n",
    "\n",
    "# calcular auc\n",
    "roc_auc_score(y_true = y_no_null, \n",
    "              y_score = rf.predict(X_no_null)\n",
    "             )"
   ]
  },
  {
   "cell_type": "code",
   "execution_count": 92,
   "id": "4c591312",
   "metadata": {},
   "outputs": [
    {
     "data": {
      "text/html": [
       "<div>\n",
       "<style scoped>\n",
       "    .dataframe tbody tr th:only-of-type {\n",
       "        vertical-align: middle;\n",
       "    }\n",
       "\n",
       "    .dataframe tbody tr th {\n",
       "        vertical-align: top;\n",
       "    }\n",
       "\n",
       "    .dataframe thead th {\n",
       "        text-align: right;\n",
       "    }\n",
       "</style>\n",
       "<table border=\"1\" class=\"dataframe\">\n",
       "  <thead>\n",
       "    <tr style=\"text-align: right;\">\n",
       "      <th></th>\n",
       "      <th>feature</th>\n",
       "      <th>value</th>\n",
       "    </tr>\n",
       "  </thead>\n",
       "  <tbody>\n",
       "    <tr>\n",
       "      <th>0</th>\n",
       "      <td>PassengerId</td>\n",
       "      <td>0.965441</td>\n",
       "    </tr>\n",
       "    <tr>\n",
       "      <th>5</th>\n",
       "      <td>Fare</td>\n",
       "      <td>0.014429</td>\n",
       "    </tr>\n",
       "    <tr>\n",
       "      <th>2</th>\n",
       "      <td>Age</td>\n",
       "      <td>0.012481</td>\n",
       "    </tr>\n",
       "    <tr>\n",
       "      <th>3</th>\n",
       "      <td>SibSp</td>\n",
       "      <td>0.002942</td>\n",
       "    </tr>\n",
       "    <tr>\n",
       "      <th>4</th>\n",
       "      <td>Parch</td>\n",
       "      <td>0.002381</td>\n",
       "    </tr>\n",
       "    <tr>\n",
       "      <th>1</th>\n",
       "      <td>Pclass</td>\n",
       "      <td>0.002326</td>\n",
       "    </tr>\n",
       "  </tbody>\n",
       "</table>\n",
       "</div>"
      ],
      "text/plain": [
       "       feature     value\n",
       "0  PassengerId  0.965441\n",
       "5         Fare  0.014429\n",
       "2          Age  0.012481\n",
       "3        SibSp  0.002942\n",
       "4        Parch  0.002381\n",
       "1       Pclass  0.002326"
      ]
     },
     "execution_count": 92,
     "metadata": {},
     "output_type": "execute_result"
    }
   ],
   "source": [
    "# importancias de mayor a menor\n",
    "importances = pd.DataFrame()\n",
    "importances['feature'] = X_no_null.columns.tolist()\n",
    "importances['value'] = rf.feature_importances_\n",
    "importances.sort_values('value', ascending = False)"
   ]
  },
  {
   "cell_type": "markdown",
   "id": "a5dc5c57",
   "metadata": {},
   "source": [
    "Igual que con XGBOOST se observa que la primera variable detectada como \"la que más aporta para distinguir ambos conjuntos de datos\" es \"PassengerID\". Se elimina la variable y se vuelve a repetir el proceso de entrenar un modelo, ver AUC y ver feature que más aporta"
   ]
  },
  {
   "cell_type": "markdown",
   "id": "906dcc18",
   "metadata": {},
   "source": [
    "#### 7.2 Eliminar feature \"PassengerID\""
   ]
  },
  {
   "cell_type": "code",
   "execution_count": 93,
   "id": "cd02c110",
   "metadata": {},
   "outputs": [],
   "source": [
    "# eliminar feature que más aporta\n",
    "X_no_null_updated = X_no_null.drop(['PassengerId'], axis=1)"
   ]
  },
  {
   "cell_type": "code",
   "execution_count": 94,
   "id": "0cb90364",
   "metadata": {},
   "outputs": [
    {
     "name": "stdout",
     "output_type": "stream",
     "text": [
      "CV scores:  [0.49507311 0.5        0.53093876 0.44628099 0.49080303]\n",
      "CV scores mean:  0.49261917715488523\n"
     ]
    }
   ],
   "source": [
    "# calcular AUC con Kfolds \n",
    "\n",
    "rf = RandomForestClassifier(random_state=42)\n",
    "cv_scores = cross_val_score(rf, X_no_null_updated, y_no_null, cv=5, scoring='roc_auc')\n",
    "print('CV scores: ', cv_scores)\n",
    "print('CV scores mean: ', cv_scores.mean())"
   ]
  },
  {
   "cell_type": "code",
   "execution_count": 107,
   "id": "45e9276b",
   "metadata": {},
   "outputs": [
    {
     "name": "stdout",
     "output_type": "stream",
     "text": [
      "AUC todos los datos:  0.9374360015909687\n"
     ]
    }
   ],
   "source": [
    "# calcular AUC entrenado un modelo con todos los datos\n",
    "rf = RandomForestClassifier(random_state=42)\n",
    "rf.fit(X_no_null_updated, y_no_null)\n",
    "\n",
    "auc = roc_auc_score(y_true = y_no_null, \n",
    "                    y_score = rf.predict(X_no_null_updated)\n",
    "                   )\n",
    "\n",
    "print('AUC todos los datos: ', auc)"
   ]
  },
  {
   "cell_type": "code",
   "execution_count": null,
   "id": "480de75f",
   "metadata": {},
   "outputs": [],
   "source": [
    "#### VER IMPORTANCIAS (de cada modelo entrenado por CV)"
   ]
  },
  {
   "cell_type": "code",
   "execution_count": 108,
   "id": "41138118",
   "metadata": {},
   "outputs": [
    {
     "data": {
      "text/plain": [
       "{'fit_time': array([0.13899207, 0.13138008, 0.13147688, 0.13665557, 0.14879537]),\n",
       " 'score_time': array([0.00999975, 0.01091051, 0.01096654, 0.01001859, 0.01100469]),\n",
       " 'estimator': (RandomForestClassifier(random_state=42),\n",
       "  RandomForestClassifier(random_state=42),\n",
       "  RandomForestClassifier(random_state=42),\n",
       "  RandomForestClassifier(random_state=42),\n",
       "  RandomForestClassifier(random_state=42)),\n",
       " 'test_score': array([0.49507311, 0.5       , 0.53093876, 0.44628099, 0.49080303])}"
      ]
     },
     "execution_count": 108,
     "metadata": {},
     "output_type": "execute_result"
    }
   ],
   "source": [
    "# obtener los modelos de CV\n",
    "rf = RandomForestClassifier(random_state=42)\n",
    "cv_results = cross_validate(rf, X_no_null_updated, y_no_null, cv=5, return_estimator=True, scoring='roc_auc')\n",
    "cv_results"
   ]
  },
  {
   "cell_type": "code",
   "execution_count": 111,
   "id": "0d3182fd",
   "metadata": {},
   "outputs": [
    {
     "data": {
      "text/html": [
       "<div>\n",
       "<style scoped>\n",
       "    .dataframe tbody tr th:only-of-type {\n",
       "        vertical-align: middle;\n",
       "    }\n",
       "\n",
       "    .dataframe tbody tr th {\n",
       "        vertical-align: top;\n",
       "    }\n",
       "\n",
       "    .dataframe thead th {\n",
       "        text-align: right;\n",
       "    }\n",
       "</style>\n",
       "<table border=\"1\" class=\"dataframe\">\n",
       "  <thead>\n",
       "    <tr style=\"text-align: right;\">\n",
       "      <th></th>\n",
       "      <th>feature</th>\n",
       "      <th>value_model_0</th>\n",
       "      <th>value_model_1</th>\n",
       "      <th>value_model_2</th>\n",
       "      <th>value_model_3</th>\n",
       "      <th>value_model_4</th>\n",
       "    </tr>\n",
       "  </thead>\n",
       "  <tbody>\n",
       "    <tr>\n",
       "      <th>1</th>\n",
       "      <td>Age</td>\n",
       "      <td>0.443005</td>\n",
       "      <td>0.459592</td>\n",
       "      <td>0.439377</td>\n",
       "      <td>0.444889</td>\n",
       "      <td>0.450808</td>\n",
       "    </tr>\n",
       "    <tr>\n",
       "      <th>4</th>\n",
       "      <td>Fare</td>\n",
       "      <td>0.412017</td>\n",
       "      <td>0.408597</td>\n",
       "      <td>0.427762</td>\n",
       "      <td>0.419148</td>\n",
       "      <td>0.420488</td>\n",
       "    </tr>\n",
       "    <tr>\n",
       "      <th>2</th>\n",
       "      <td>SibSp</td>\n",
       "      <td>0.060656</td>\n",
       "      <td>0.056319</td>\n",
       "      <td>0.057216</td>\n",
       "      <td>0.057541</td>\n",
       "      <td>0.055377</td>\n",
       "    </tr>\n",
       "    <tr>\n",
       "      <th>3</th>\n",
       "      <td>Parch</td>\n",
       "      <td>0.049690</td>\n",
       "      <td>0.043966</td>\n",
       "      <td>0.045531</td>\n",
       "      <td>0.047867</td>\n",
       "      <td>0.044095</td>\n",
       "    </tr>\n",
       "    <tr>\n",
       "      <th>0</th>\n",
       "      <td>Pclass</td>\n",
       "      <td>0.034633</td>\n",
       "      <td>0.031526</td>\n",
       "      <td>0.030114</td>\n",
       "      <td>0.030556</td>\n",
       "      <td>0.029232</td>\n",
       "    </tr>\n",
       "  </tbody>\n",
       "</table>\n",
       "</div>"
      ],
      "text/plain": [
       "  feature  value_model_0  value_model_1  value_model_2  value_model_3  \\\n",
       "1     Age       0.443005       0.459592       0.439377       0.444889   \n",
       "4    Fare       0.412017       0.408597       0.427762       0.419148   \n",
       "2   SibSp       0.060656       0.056319       0.057216       0.057541   \n",
       "3   Parch       0.049690       0.043966       0.045531       0.047867   \n",
       "0  Pclass       0.034633       0.031526       0.030114       0.030556   \n",
       "\n",
       "   value_model_4  \n",
       "1       0.450808  \n",
       "4       0.420488  \n",
       "2       0.055377  \n",
       "3       0.044095  \n",
       "0       0.029232  "
      ]
     },
     "execution_count": 111,
     "metadata": {},
     "output_type": "execute_result"
    }
   ],
   "source": [
    "# calcular importancias de cada uno de los modelos \n",
    "# (SE OBSERVA QUE AUC ES 0.5 CON CV y que cada modelo tiene las mismas variabels como más importantes)\n",
    "\n",
    "importances = pd.DataFrame()\n",
    "importances['feature'] = X_no_null_updated.columns.tolist()\n",
    "\n",
    "for index, model in enumerate(cv_results['estimator']):\n",
    "    importances[f'value_model_{index}'] = model.feature_importances_\n",
    "\n",
    "importances.sort_values('value_model_0', ascending = False)"
   ]
  },
  {
   "cell_type": "code",
   "execution_count": null,
   "id": "db9d91a0",
   "metadata": {},
   "outputs": [],
   "source": []
  },
  {
   "cell_type": "markdown",
   "id": "9b2860cd",
   "metadata": {},
   "source": [
    "#### Conclusiones finales:\n",
    "- Se observa que el AUC obtenido a partir de KFolds CV es del 0.5 por lo que las distribuciones de los datos de Train y Test originales son indistingibles.\n",
    "\n",
    "- Ocurre lo mismo que con el modelo de Xboost donde el AUC de CV es de 0.5 pero el AUC entrenando un modelo con todos los datos es superior"
   ]
  },
  {
   "cell_type": "code",
   "execution_count": null,
   "id": "90aa413e",
   "metadata": {},
   "outputs": [],
   "source": []
  },
  {
   "cell_type": "code",
   "execution_count": null,
   "id": "a7a961e0",
   "metadata": {},
   "outputs": [],
   "source": []
  }
 ],
 "metadata": {
  "kernelspec": {
   "display_name": "Python 3 (ipykernel)",
   "language": "python",
   "name": "python3"
  },
  "language_info": {
   "codemirror_mode": {
    "name": "ipython",
    "version": 3
   },
   "file_extension": ".py",
   "mimetype": "text/x-python",
   "name": "python",
   "nbconvert_exporter": "python",
   "pygments_lexer": "ipython3",
   "version": "3.10.14"
  }
 },
 "nbformat": 4,
 "nbformat_minor": 5
}
